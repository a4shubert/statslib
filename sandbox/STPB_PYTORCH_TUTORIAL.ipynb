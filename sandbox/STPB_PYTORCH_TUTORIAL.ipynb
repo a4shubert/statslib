{
 "cells": [
  {
   "cell_type": "markdown",
   "metadata": {},
   "source": [
    "# STPB_PYTORCH_TUTORIAL"
   ]
  },
  {
   "cell_type": "code",
   "execution_count": 12,
   "metadata": {},
   "outputs": [],
   "source": [
    "%load_ext autoreload\n",
    "%autoreload 2\n",
    "%matplotlib inline"
   ]
  },
  {
   "cell_type": "code",
   "execution_count": 13,
   "metadata": {},
   "outputs": [],
   "source": [
    "import os, sys\n",
    "path = os.getcwd()\n",
    "while not path.endswith('research'):    \n",
    "    path = os.path.abspath(os.path.join(path, '../'))\n",
    "sys.path.append(path)\n",
    "sys.path.append('C:\\git\\statslib')\n",
    "import statslib as stb\n",
    "import logging\n",
    "logger = logging.getLogger()\n",
    "logger.setLevel(logging.CRITICAL)\n",
    "import warnings\n",
    "warnings.filterwarnings(\"ignore\")\n",
    "import logging\n",
    "mpl_logger = logging.getLogger('matplotlib')\n",
    "mpl_logger.setLevel(logging.WARNING)"
   ]
  },
  {
   "cell_type": "code",
   "execution_count": 14,
   "metadata": {},
   "outputs": [],
   "source": [
    "import statsmodels.api as sm"
   ]
  },
  {
   "cell_type": "code",
   "execution_count": 15,
   "metadata": {},
   "outputs": [],
   "source": [
    "import numpy as np\n",
    "from datetime import datetime, date\n",
    "import pandas as pd\n",
    "import json\n",
    "import matplotlib.pyplot as plt\n",
    "from matplotlib.font_manager import FontProperties\n",
    "import time\n",
    "from copy import deepcopy\n",
    "from pandas.tseries.offsets import DateOffset"
   ]
  },
  {
   "cell_type": "code",
   "execution_count": 16,
   "metadata": {},
   "outputs": [],
   "source": [
    "from gmt.fom.gas.shared.utils.common import *\n",
    "from gmt.fom.gas.shared.utils.dframe import *"
   ]
  },
  {
   "cell_type": "code",
   "execution_count": 17,
   "metadata": {},
   "outputs": [],
   "source": [
    "from gmt.fom.gas.shared.models.short_term_power_burn.stpb import MongoAdapter"
   ]
  },
  {
   "cell_type": "code",
   "execution_count": 18,
   "metadata": {},
   "outputs": [],
   "source": [
    "figsize=(9*1.6, 9)"
   ]
  },
  {
   "cell_type": "code",
   "execution_count": 19,
   "metadata": {},
   "outputs": [],
   "source": [
    "def save_to_path(f_name):\n",
    "    _path = r'C:/git/gmt-fom-gas-research/sandbox/alexs/short_term_power_burn'\n",
    "    return os.path.join(_path, f_name + '.csv')"
   ]
  },
  {
   "cell_type": "code",
   "execution_count": 20,
   "metadata": {},
   "outputs": [],
   "source": [
    "def get_fourier_series(timeIndex,K):\n",
    "    m = 7\n",
    "    d = 1\n",
    "    fourier_series = pd.DataFrame({'date':timeIndex})\n",
    "    fourier_series = fourier_series.set_index(pd.RangeIndex(1,len(timeIndex)+1))\n",
    "\n",
    "    for i in range(1, K+1):\n",
    "        fourier_series[f'S{i}-{m}'] = np.sin(2 * i * np.pi * d *fourier_series.index/ m)\n",
    "        fourier_series[f'C{i}-{m}'] = np.cos(2 * i * np.pi * d *fourier_series.index/ m)\n",
    "    fourier_series = fourier_series.drop(columns=['date'])\n",
    "    fourier_series.index = timeIndex\n",
    "    return fourier_series"
   ]
  },
  {
   "cell_type": "code",
   "execution_count": 62,
   "metadata": {},
   "outputs": [],
   "source": [
    "import torch\n",
    "import torch.nn as nn\n",
    "\n",
    "import seaborn as sns"
   ]
  },
  {
   "cell_type": "markdown",
   "metadata": {},
   "source": [
    "# Learning"
   ]
  },
  {
   "cell_type": "code",
   "execution_count": 22,
   "metadata": {},
   "outputs": [
    {
     "data": {
      "text/plain": [
       "['anagrams',\n",
       " 'anscombe',\n",
       " 'attention',\n",
       " 'brain_networks',\n",
       " 'car_crashes',\n",
       " 'diamonds',\n",
       " 'dots',\n",
       " 'exercise',\n",
       " 'flights',\n",
       " 'fmri',\n",
       " 'gammas',\n",
       " 'geyser',\n",
       " 'iris',\n",
       " 'mpg',\n",
       " 'penguins',\n",
       " 'planets',\n",
       " 'tips',\n",
       " 'titanic']"
      ]
     },
     "execution_count": 22,
     "metadata": {},
     "output_type": "execute_result"
    }
   ],
   "source": [
    "sns.get_dataset_names()"
   ]
  },
  {
   "cell_type": "code",
   "execution_count": 23,
   "metadata": {},
   "outputs": [],
   "source": [
    "flight_data = sns.load_dataset('flights')"
   ]
  },
  {
   "cell_type": "code",
   "execution_count": 24,
   "metadata": {},
   "outputs": [
    {
     "data": {
      "text/html": [
       "<div>\n",
       "<style scoped>\n",
       "    .dataframe tbody tr th:only-of-type {\n",
       "        vertical-align: middle;\n",
       "    }\n",
       "\n",
       "    .dataframe tbody tr th {\n",
       "        vertical-align: top;\n",
       "    }\n",
       "\n",
       "    .dataframe thead th {\n",
       "        text-align: right;\n",
       "    }\n",
       "</style>\n",
       "<table border=\"1\" class=\"dataframe\">\n",
       "  <thead>\n",
       "    <tr style=\"text-align: right;\">\n",
       "      <th></th>\n",
       "      <th>year</th>\n",
       "      <th>month</th>\n",
       "      <th>passengers</th>\n",
       "    </tr>\n",
       "  </thead>\n",
       "  <tbody>\n",
       "    <tr>\n",
       "      <th>0</th>\n",
       "      <td>1949</td>\n",
       "      <td>Jan</td>\n",
       "      <td>112</td>\n",
       "    </tr>\n",
       "    <tr>\n",
       "      <th>1</th>\n",
       "      <td>1949</td>\n",
       "      <td>Feb</td>\n",
       "      <td>118</td>\n",
       "    </tr>\n",
       "    <tr>\n",
       "      <th>2</th>\n",
       "      <td>1949</td>\n",
       "      <td>Mar</td>\n",
       "      <td>132</td>\n",
       "    </tr>\n",
       "    <tr>\n",
       "      <th>3</th>\n",
       "      <td>1949</td>\n",
       "      <td>Apr</td>\n",
       "      <td>129</td>\n",
       "    </tr>\n",
       "    <tr>\n",
       "      <th>4</th>\n",
       "      <td>1949</td>\n",
       "      <td>May</td>\n",
       "      <td>121</td>\n",
       "    </tr>\n",
       "  </tbody>\n",
       "</table>\n",
       "</div>"
      ],
      "text/plain": [
       "   year month  passengers\n",
       "0  1949   Jan         112\n",
       "1  1949   Feb         118\n",
       "2  1949   Mar         132\n",
       "3  1949   Apr         129\n",
       "4  1949   May         121"
      ]
     },
     "execution_count": 24,
     "metadata": {},
     "output_type": "execute_result"
    }
   ],
   "source": [
    "flight_data.head()"
   ]
  },
  {
   "cell_type": "code",
   "execution_count": 10,
   "metadata": {},
   "outputs": [
    {
     "data": {
      "text/plain": [
       "(144, 3)"
      ]
     },
     "execution_count": 10,
     "metadata": {},
     "output_type": "execute_result"
    }
   ],
   "source": [
    "flight_data.shape"
   ]
  },
  {
   "cell_type": "code",
   "execution_count": 25,
   "metadata": {},
   "outputs": [],
   "source": [
    "fig_size = plt.rcParams[\"figure.figsize\"]\n",
    "fig_size[0] = 15\n",
    "fig_size[1] = 5\n",
    "plt.rcParams[\"figure.figsize\"] = fig_size"
   ]
  },
  {
   "cell_type": "code",
   "execution_count": 26,
   "metadata": {},
   "outputs": [
    {
     "data": {
      "text/plain": [
       "[<matplotlib.lines.Line2D at 0x27a1aeffc08>]"
      ]
     },
     "execution_count": 26,
     "metadata": {},
     "output_type": "execute_result"
    },
    {
     "data": {
      "image/png": "[encoded data removed]",
      "text/plain": [
       "<Figure size 1080x360 with 1 Axes>"
      ]
     },
     "metadata": {},
     "output_type": "display_data"
    }
   ],
   "source": [
    "plt.title('Month vs Passenger')\n",
    "plt.ylabel('Total Passengers')\n",
    "plt.xlabel('Months')\n",
    "plt.grid(True)\n",
    "plt.autoscale(axis='x',tight=True)\n",
    "plt.plot(flight_data['passengers'])"
   ]
  },
  {
   "cell_type": "code",
   "execution_count": 27,
   "metadata": {},
   "outputs": [
    {
     "data": {
      "text/plain": [
       "Index(['year', 'month', 'passengers'], dtype='object')"
      ]
     },
     "execution_count": 27,
     "metadata": {},
     "output_type": "execute_result"
    }
   ],
   "source": [
    "flight_data.columns"
   ]
  },
  {
   "cell_type": "code",
   "execution_count": 28,
   "metadata": {},
   "outputs": [],
   "source": [
    "all_data = flight_data['passengers'].values.astype(float)"
   ]
  },
  {
   "cell_type": "code",
   "execution_count": 29,
   "metadata": {},
   "outputs": [
    {
     "name": "stdout",
     "output_type": "stream",
     "text": [
      "[112. 118. 132. 129. 121. 135. 148. 148. 136. 119. 104. 118. 115. 126.\n",
      " 141. 135. 125. 149. 170. 170. 158. 133. 114. 140. 145. 150. 178. 163.\n",
      " 172. 178. 199. 199. 184. 162. 146. 166. 171. 180. 193. 181. 183. 218.\n",
      " 230. 242. 209. 191. 172. 194. 196. 196. 236. 235. 229. 243. 264. 272.\n",
      " 237. 211. 180. 201. 204. 188. 235. 227. 234. 264. 302. 293. 259. 229.\n",
      " 203. 229. 242. 233. 267. 269. 270. 315. 364. 347. 312. 274. 237. 278.\n",
      " 284. 277. 317. 313. 318. 374. 413. 405. 355. 306. 271. 306. 315. 301.\n",
      " 356. 348. 355. 422. 465. 467. 404. 347. 305. 336. 340. 318. 362. 348.\n",
      " 363. 435. 491. 505. 404. 359. 310. 337. 360. 342. 406. 396. 420. 472.\n",
      " 548. 559. 463. 407. 362. 405. 417. 391. 419. 461. 472. 535. 622. 606.\n",
      " 508. 461. 390. 432.]\n"
     ]
    }
   ],
   "source": [
    "print(all_data)"
   ]
  },
  {
   "cell_type": "code",
   "execution_count": 30,
   "metadata": {},
   "outputs": [],
   "source": [
    "test_data_size = 12\n",
    "\n",
    "train_data = all_data[:-test_data_size]\n",
    "test_data = all_data[-test_data_size:]"
   ]
  },
  {
   "cell_type": "code",
   "execution_count": 31,
   "metadata": {},
   "outputs": [
    {
     "name": "stdout",
     "output_type": "stream",
     "text": [
      "132\n",
      "12\n"
     ]
    }
   ],
   "source": [
    "print(len(train_data))\n",
    "print(len(test_data))"
   ]
  },
  {
   "cell_type": "code",
   "execution_count": 32,
   "metadata": {},
   "outputs": [
    {
     "name": "stdout",
     "output_type": "stream",
     "text": [
      "[417. 391. 419. 461. 472. 535. 622. 606. 508. 461. 390. 432.]\n"
     ]
    }
   ],
   "source": [
    "print(test_data)"
   ]
  },
  {
   "cell_type": "code",
   "execution_count": 33,
   "metadata": {},
   "outputs": [],
   "source": [
    "from sklearn.preprocessing import MinMaxScaler\n",
    "\n",
    "scaler = MinMaxScaler(feature_range=(-1, 1))\n",
    "train_data_normalized = scaler.fit_transform(train_data .reshape(-1, 1))"
   ]
  },
  {
   "cell_type": "code",
   "execution_count": 47,
   "metadata": {},
   "outputs": [
    {
     "name": "stdout",
     "output_type": "stream",
     "text": [
      "tensor([-0.9648, -0.9385, -0.8769, -0.8901, -0.9253, -0.8637, -0.8066, -0.8066,\n",
      "        -0.8593, -0.9341, -1.0000, -0.9385, -0.9516, -0.9033])\n",
      "tensor([1.0000, 0.5780, 0.3319, 0.1341, 0.3231])\n"
     ]
    }
   ],
   "source": [
    "print(train_data_normalized[:14])\n",
    "print(train_data_normalized[-5:])"
   ]
  },
  {
   "cell_type": "code",
   "execution_count": 35,
   "metadata": {},
   "outputs": [],
   "source": [
    "train_data_normalized = torch.FloatTensor(train_data_normalized).view(-1)"
   ]
  },
  {
   "cell_type": "code",
   "execution_count": 41,
   "metadata": {},
   "outputs": [],
   "source": [
    "train_window = 12"
   ]
  },
  {
   "cell_type": "code",
   "execution_count": 42,
   "metadata": {},
   "outputs": [],
   "source": [
    "def create_inout_sequences(input_data, tw):\n",
    "    inout_seq = []\n",
    "    L = len(input_data)\n",
    "    for i in range(L-tw):\n",
    "        train_seq = input_data[i:i+tw]\n",
    "        train_label = input_data[i+tw:i+tw+1]\n",
    "        inout_seq.append((train_seq ,train_label))\n",
    "    return inout_seq"
   ]
  },
  {
   "cell_type": "code",
   "execution_count": 43,
   "metadata": {},
   "outputs": [],
   "source": [
    "train_inout_seq = create_inout_sequences(train_data_normalized, train_window)"
   ]
  },
  {
   "cell_type": "code",
   "execution_count": 44,
   "metadata": {},
   "outputs": [
    {
     "data": {
      "text/plain": [
       "[(tensor([-0.9648, -0.9385, -0.8769, -0.8901, -0.9253, -0.8637, -0.8066, -0.8066,\n",
       "          -0.8593, -0.9341, -1.0000, -0.9385]),\n",
       "  tensor([-0.9516])),\n",
       " (tensor([-0.9385, -0.8769, -0.8901, -0.9253, -0.8637, -0.8066, -0.8066, -0.8593,\n",
       "          -0.9341, -1.0000, -0.9385, -0.9516]),\n",
       "  tensor([-0.9033])),\n",
       " (tensor([-0.8769, -0.8901, -0.9253, -0.8637, -0.8066, -0.8066, -0.8593, -0.9341,\n",
       "          -1.0000, -0.9385, -0.9516, -0.9033]),\n",
       "  tensor([-0.8374])),\n",
       " (tensor([-0.8901, -0.9253, -0.8637, -0.8066, -0.8066, -0.8593, -0.9341, -1.0000,\n",
       "          -0.9385, -0.9516, -0.9033, -0.8374]),\n",
       "  tensor([-0.8637])),\n",
       " (tensor([-0.9253, -0.8637, -0.8066, -0.8066, -0.8593, -0.9341, -1.0000, -0.9385,\n",
       "          -0.9516, -0.9033, -0.8374, -0.8637]),\n",
       "  tensor([-0.9077])),\n",
       " (tensor([-0.8637, -0.8066, -0.8066, -0.8593, -0.9341, -1.0000, -0.9385, -0.9516,\n",
       "          -0.9033, -0.8374, -0.8637, -0.9077]),\n",
       "  tensor([-0.8022])),\n",
       " (tensor([-0.8066, -0.8066, -0.8593, -0.9341, -1.0000, -0.9385, -0.9516, -0.9033,\n",
       "          -0.8374, -0.8637, -0.9077, -0.8022]),\n",
       "  tensor([-0.7099])),\n",
       " (tensor([-0.8066, -0.8593, -0.9341, -1.0000, -0.9385, -0.9516, -0.9033, -0.8374,\n",
       "          -0.8637, -0.9077, -0.8022, -0.7099]),\n",
       "  tensor([-0.7099])),\n",
       " (tensor([-0.8593, -0.9341, -1.0000, -0.9385, -0.9516, -0.9033, -0.8374, -0.8637,\n",
       "          -0.9077, -0.8022, -0.7099, -0.7099]),\n",
       "  tensor([-0.7626])),\n",
       " (tensor([-0.9341, -1.0000, -0.9385, -0.9516, -0.9033, -0.8374, -0.8637, -0.9077,\n",
       "          -0.8022, -0.7099, -0.7099, -0.7626]),\n",
       "  tensor([-0.8725])),\n",
       " (tensor([-1.0000, -0.9385, -0.9516, -0.9033, -0.8374, -0.8637, -0.9077, -0.8022,\n",
       "          -0.7099, -0.7099, -0.7626, -0.8725]),\n",
       "  tensor([-0.9560])),\n",
       " (tensor([-0.9385, -0.9516, -0.9033, -0.8374, -0.8637, -0.9077, -0.8022, -0.7099,\n",
       "          -0.7099, -0.7626, -0.8725, -0.9560]),\n",
       "  tensor([-0.8418])),\n",
       " (tensor([-0.9516, -0.9033, -0.8374, -0.8637, -0.9077, -0.8022, -0.7099, -0.7099,\n",
       "          -0.7626, -0.8725, -0.9560, -0.8418]),\n",
       "  tensor([-0.8198])),\n",
       " (tensor([-0.9033, -0.8374, -0.8637, -0.9077, -0.8022, -0.7099, -0.7099, -0.7626,\n",
       "          -0.8725, -0.9560, -0.8418, -0.8198]),\n",
       "  tensor([-0.7978])),\n",
       " (tensor([-0.8374, -0.8637, -0.9077, -0.8022, -0.7099, -0.7099, -0.7626, -0.8725,\n",
       "          -0.9560, -0.8418, -0.8198, -0.7978]),\n",
       "  tensor([-0.6747])),\n",
       " (tensor([-0.8637, -0.9077, -0.8022, -0.7099, -0.7099, -0.7626, -0.8725, -0.9560,\n",
       "          -0.8418, -0.8198, -0.7978, -0.6747]),\n",
       "  tensor([-0.7407])),\n",
       " (tensor([-0.9077, -0.8022, -0.7099, -0.7099, -0.7626, -0.8725, -0.9560, -0.8418,\n",
       "          -0.8198, -0.7978, -0.6747, -0.7407]),\n",
       "  tensor([-0.7011])),\n",
       " (tensor([-0.8022, -0.7099, -0.7099, -0.7626, -0.8725, -0.9560, -0.8418, -0.8198,\n",
       "          -0.7978, -0.6747, -0.7407, -0.7011]),\n",
       "  tensor([-0.6747])),\n",
       " (tensor([-0.7099, -0.7099, -0.7626, -0.8725, -0.9560, -0.8418, -0.8198, -0.7978,\n",
       "          -0.6747, -0.7407, -0.7011, -0.6747]),\n",
       "  tensor([-0.5824])),\n",
       " (tensor([-0.7099, -0.7626, -0.8725, -0.9560, -0.8418, -0.8198, -0.7978, -0.6747,\n",
       "          -0.7407, -0.7011, -0.6747, -0.5824]),\n",
       "  tensor([-0.5824])),\n",
       " (tensor([-0.7626, -0.8725, -0.9560, -0.8418, -0.8198, -0.7978, -0.6747, -0.7407,\n",
       "          -0.7011, -0.6747, -0.5824, -0.5824]),\n",
       "  tensor([-0.6484])),\n",
       " (tensor([-0.8725, -0.9560, -0.8418, -0.8198, -0.7978, -0.6747, -0.7407, -0.7011,\n",
       "          -0.6747, -0.5824, -0.5824, -0.6484]),\n",
       "  tensor([-0.7451])),\n",
       " (tensor([-0.9560, -0.8418, -0.8198, -0.7978, -0.6747, -0.7407, -0.7011, -0.6747,\n",
       "          -0.5824, -0.5824, -0.6484, -0.7451]),\n",
       "  tensor([-0.8154])),\n",
       " (tensor([-0.8418, -0.8198, -0.7978, -0.6747, -0.7407, -0.7011, -0.6747, -0.5824,\n",
       "          -0.5824, -0.6484, -0.7451, -0.8154]),\n",
       "  tensor([-0.7275])),\n",
       " (tensor([-0.8198, -0.7978, -0.6747, -0.7407, -0.7011, -0.6747, -0.5824, -0.5824,\n",
       "          -0.6484, -0.7451, -0.8154, -0.7275]),\n",
       "  tensor([-0.7055])),\n",
       " (tensor([-0.7978, -0.6747, -0.7407, -0.7011, -0.6747, -0.5824, -0.5824, -0.6484,\n",
       "          -0.7451, -0.8154, -0.7275, -0.7055]),\n",
       "  tensor([-0.6659])),\n",
       " (tensor([-0.6747, -0.7407, -0.7011, -0.6747, -0.5824, -0.5824, -0.6484, -0.7451,\n",
       "          -0.8154, -0.7275, -0.7055, -0.6659]),\n",
       "  tensor([-0.6088])),\n",
       " (tensor([-0.7407, -0.7011, -0.6747, -0.5824, -0.5824, -0.6484, -0.7451, -0.8154,\n",
       "          -0.7275, -0.7055, -0.6659, -0.6088]),\n",
       "  tensor([-0.6615])),\n",
       " (tensor([-0.7011, -0.6747, -0.5824, -0.5824, -0.6484, -0.7451, -0.8154, -0.7275,\n",
       "          -0.7055, -0.6659, -0.6088, -0.6615]),\n",
       "  tensor([-0.6527])),\n",
       " (tensor([-0.6747, -0.5824, -0.5824, -0.6484, -0.7451, -0.8154, -0.7275, -0.7055,\n",
       "          -0.6659, -0.6088, -0.6615, -0.6527]),\n",
       "  tensor([-0.4989])),\n",
       " (tensor([-0.5824, -0.5824, -0.6484, -0.7451, -0.8154, -0.7275, -0.7055, -0.6659,\n",
       "          -0.6088, -0.6615, -0.6527, -0.4989]),\n",
       "  tensor([-0.4462])),\n",
       " (tensor([-0.5824, -0.6484, -0.7451, -0.8154, -0.7275, -0.7055, -0.6659, -0.6088,\n",
       "          -0.6615, -0.6527, -0.4989, -0.4462]),\n",
       "  tensor([-0.3934])),\n",
       " (tensor([-0.6484, -0.7451, -0.8154, -0.7275, -0.7055, -0.6659, -0.6088, -0.6615,\n",
       "          -0.6527, -0.4989, -0.4462, -0.3934]),\n",
       "  tensor([-0.5385])),\n",
       " (tensor([-0.7451, -0.8154, -0.7275, -0.7055, -0.6659, -0.6088, -0.6615, -0.6527,\n",
       "          -0.4989, -0.4462, -0.3934, -0.5385]),\n",
       "  tensor([-0.6176])),\n",
       " (tensor([-0.8154, -0.7275, -0.7055, -0.6659, -0.6088, -0.6615, -0.6527, -0.4989,\n",
       "          -0.4462, -0.3934, -0.5385, -0.6176]),\n",
       "  tensor([-0.7011])),\n",
       " (tensor([-0.7275, -0.7055, -0.6659, -0.6088, -0.6615, -0.6527, -0.4989, -0.4462,\n",
       "          -0.3934, -0.5385, -0.6176, -0.7011]),\n",
       "  tensor([-0.6044])),\n",
       " (tensor([-0.7055, -0.6659, -0.6088, -0.6615, -0.6527, -0.4989, -0.4462, -0.3934,\n",
       "          -0.5385, -0.6176, -0.7011, -0.6044]),\n",
       "  tensor([-0.5956])),\n",
       " (tensor([-0.6659, -0.6088, -0.6615, -0.6527, -0.4989, -0.4462, -0.3934, -0.5385,\n",
       "          -0.6176, -0.7011, -0.6044, -0.5956]),\n",
       "  tensor([-0.5956])),\n",
       " (tensor([-0.6088, -0.6615, -0.6527, -0.4989, -0.4462, -0.3934, -0.5385, -0.6176,\n",
       "          -0.7011, -0.6044, -0.5956, -0.5956]),\n",
       "  tensor([-0.4198])),\n",
       " (tensor([-0.6615, -0.6527, -0.4989, -0.4462, -0.3934, -0.5385, -0.6176, -0.7011,\n",
       "          -0.6044, -0.5956, -0.5956, -0.4198]),\n",
       "  tensor([-0.4242])),\n",
       " (tensor([-0.6527, -0.4989, -0.4462, -0.3934, -0.5385, -0.6176, -0.7011, -0.6044,\n",
       "          -0.5956, -0.5956, -0.4198, -0.4242]),\n",
       "  tensor([-0.4505])),\n",
       " (tensor([-0.4989, -0.4462, -0.3934, -0.5385, -0.6176, -0.7011, -0.6044, -0.5956,\n",
       "          -0.5956, -0.4198, -0.4242, -0.4505]),\n",
       "  tensor([-0.3890])),\n",
       " (tensor([-0.4462, -0.3934, -0.5385, -0.6176, -0.7011, -0.6044, -0.5956, -0.5956,\n",
       "          -0.4198, -0.4242, -0.4505, -0.3890]),\n",
       "  tensor([-0.2967])),\n",
       " (tensor([-0.3934, -0.5385, -0.6176, -0.7011, -0.6044, -0.5956, -0.5956, -0.4198,\n",
       "          -0.4242, -0.4505, -0.3890, -0.2967]),\n",
       "  tensor([-0.2615])),\n",
       " (tensor([-0.5385, -0.6176, -0.7011, -0.6044, -0.5956, -0.5956, -0.4198, -0.4242,\n",
       "          -0.4505, -0.3890, -0.2967, -0.2615]),\n",
       "  tensor([-0.4154])),\n",
       " (tensor([-0.6176, -0.7011, -0.6044, -0.5956, -0.5956, -0.4198, -0.4242, -0.4505,\n",
       "          -0.3890, -0.2967, -0.2615, -0.4154]),\n",
       "  tensor([-0.5297])),\n",
       " (tensor([-0.7011, -0.6044, -0.5956, -0.5956, -0.4198, -0.4242, -0.4505, -0.3890,\n",
       "          -0.2967, -0.2615, -0.4154, -0.5297]),\n",
       "  tensor([-0.6659])),\n",
       " (tensor([-0.6044, -0.5956, -0.5956, -0.4198, -0.4242, -0.4505, -0.3890, -0.2967,\n",
       "          -0.2615, -0.4154, -0.5297, -0.6659]),\n",
       "  tensor([-0.5736])),\n",
       " (tensor([-0.5956, -0.5956, -0.4198, -0.4242, -0.4505, -0.3890, -0.2967, -0.2615,\n",
       "          -0.4154, -0.5297, -0.6659, -0.5736]),\n",
       "  tensor([-0.5604])),\n",
       " (tensor([-0.5956, -0.4198, -0.4242, -0.4505, -0.3890, -0.2967, -0.2615, -0.4154,\n",
       "          -0.5297, -0.6659, -0.5736, -0.5604]),\n",
       "  tensor([-0.6308])),\n",
       " (tensor([-0.4198, -0.4242, -0.4505, -0.3890, -0.2967, -0.2615, -0.4154, -0.5297,\n",
       "          -0.6659, -0.5736, -0.5604, -0.6308]),\n",
       "  tensor([-0.4242])),\n",
       " (tensor([-0.4242, -0.4505, -0.3890, -0.2967, -0.2615, -0.4154, -0.5297, -0.6659,\n",
       "          -0.5736, -0.5604, -0.6308, -0.4242]),\n",
       "  tensor([-0.4593])),\n",
       " (tensor([-0.4505, -0.3890, -0.2967, -0.2615, -0.4154, -0.5297, -0.6659, -0.5736,\n",
       "          -0.5604, -0.6308, -0.4242, -0.4593]),\n",
       "  tensor([-0.4286])),\n",
       " (tensor([-0.3890, -0.2967, -0.2615, -0.4154, -0.5297, -0.6659, -0.5736, -0.5604,\n",
       "          -0.6308, -0.4242, -0.4593, -0.4286]),\n",
       "  tensor([-0.2967])),\n",
       " (tensor([-0.2967, -0.2615, -0.4154, -0.5297, -0.6659, -0.5736, -0.5604, -0.6308,\n",
       "          -0.4242, -0.4593, -0.4286, -0.2967]),\n",
       "  tensor([-0.1297])),\n",
       " (tensor([-0.2615, -0.4154, -0.5297, -0.6659, -0.5736, -0.5604, -0.6308, -0.4242,\n",
       "          -0.4593, -0.4286, -0.2967, -0.1297]),\n",
       "  tensor([-0.1692])),\n",
       " (tensor([-0.4154, -0.5297, -0.6659, -0.5736, -0.5604, -0.6308, -0.4242, -0.4593,\n",
       "          -0.4286, -0.2967, -0.1297, -0.1692]),\n",
       "  tensor([-0.3187])),\n",
       " (tensor([-0.5297, -0.6659, -0.5736, -0.5604, -0.6308, -0.4242, -0.4593, -0.4286,\n",
       "          -0.2967, -0.1297, -0.1692, -0.3187]),\n",
       "  tensor([-0.4505])),\n",
       " (tensor([-0.6659, -0.5736, -0.5604, -0.6308, -0.4242, -0.4593, -0.4286, -0.2967,\n",
       "          -0.1297, -0.1692, -0.3187, -0.4505]),\n",
       "  tensor([-0.5648])),\n",
       " (tensor([-0.5736, -0.5604, -0.6308, -0.4242, -0.4593, -0.4286, -0.2967, -0.1297,\n",
       "          -0.1692, -0.3187, -0.4505, -0.5648]),\n",
       "  tensor([-0.4505])),\n",
       " (tensor([-0.5604, -0.6308, -0.4242, -0.4593, -0.4286, -0.2967, -0.1297, -0.1692,\n",
       "          -0.3187, -0.4505, -0.5648, -0.4505]),\n",
       "  tensor([-0.3934])),\n",
       " (tensor([-0.6308, -0.4242, -0.4593, -0.4286, -0.2967, -0.1297, -0.1692, -0.3187,\n",
       "          -0.4505, -0.5648, -0.4505, -0.3934]),\n",
       "  tensor([-0.4330])),\n",
       " (tensor([-0.4242, -0.4593, -0.4286, -0.2967, -0.1297, -0.1692, -0.3187, -0.4505,\n",
       "          -0.5648, -0.4505, -0.3934, -0.4330]),\n",
       "  tensor([-0.2835])),\n",
       " (tensor([-0.4593, -0.4286, -0.2967, -0.1297, -0.1692, -0.3187, -0.4505, -0.5648,\n",
       "          -0.4505, -0.3934, -0.4330, -0.2835]),\n",
       "  tensor([-0.2747])),\n",
       " (tensor([-0.4286, -0.2967, -0.1297, -0.1692, -0.3187, -0.4505, -0.5648, -0.4505,\n",
       "          -0.3934, -0.4330, -0.2835, -0.2747]),\n",
       "  tensor([-0.2703])),\n",
       " (tensor([-0.2967, -0.1297, -0.1692, -0.3187, -0.4505, -0.5648, -0.4505, -0.3934,\n",
       "          -0.4330, -0.2835, -0.2747, -0.2703]),\n",
       "  tensor([-0.0725])),\n",
       " (tensor([-0.1297, -0.1692, -0.3187, -0.4505, -0.5648, -0.4505, -0.3934, -0.4330,\n",
       "          -0.2835, -0.2747, -0.2703, -0.0725]),\n",
       "  tensor([0.1429])),\n",
       " (tensor([-0.1692, -0.3187, -0.4505, -0.5648, -0.4505, -0.3934, -0.4330, -0.2835,\n",
       "          -0.2747, -0.2703, -0.0725,  0.1429]),\n",
       "  tensor([0.0681])),\n",
       " (tensor([-0.3187, -0.4505, -0.5648, -0.4505, -0.3934, -0.4330, -0.2835, -0.2747,\n",
       "          -0.2703, -0.0725,  0.1429,  0.0681]),\n",
       "  tensor([-0.0857])),\n",
       " (tensor([-0.4505, -0.5648, -0.4505, -0.3934, -0.4330, -0.2835, -0.2747, -0.2703,\n",
       "          -0.0725,  0.1429,  0.0681, -0.0857]),\n",
       "  tensor([-0.2527])),\n",
       " (tensor([-0.5648, -0.4505, -0.3934, -0.4330, -0.2835, -0.2747, -0.2703, -0.0725,\n",
       "           0.1429,  0.0681, -0.0857, -0.2527]),\n",
       "  tensor([-0.4154])),\n",
       " (tensor([-0.4505, -0.3934, -0.4330, -0.2835, -0.2747, -0.2703, -0.0725,  0.1429,\n",
       "           0.0681, -0.0857, -0.2527, -0.4154]),\n",
       "  tensor([-0.2352])),\n",
       " (tensor([-0.3934, -0.4330, -0.2835, -0.2747, -0.2703, -0.0725,  0.1429,  0.0681,\n",
       "          -0.0857, -0.2527, -0.4154, -0.2352]),\n",
       "  tensor([-0.2088])),\n",
       " (tensor([-0.4330, -0.2835, -0.2747, -0.2703, -0.0725,  0.1429,  0.0681, -0.0857,\n",
       "          -0.2527, -0.4154, -0.2352, -0.2088]),\n",
       "  tensor([-0.2396])),\n",
       " (tensor([-0.2835, -0.2747, -0.2703, -0.0725,  0.1429,  0.0681, -0.0857, -0.2527,\n",
       "          -0.4154, -0.2352, -0.2088, -0.2396]),\n",
       "  tensor([-0.0637])),\n",
       " (tensor([-0.2747, -0.2703, -0.0725,  0.1429,  0.0681, -0.0857, -0.2527, -0.4154,\n",
       "          -0.2352, -0.2088, -0.2396, -0.0637]),\n",
       "  tensor([-0.0813])),\n",
       " (tensor([-0.2703, -0.0725,  0.1429,  0.0681, -0.0857, -0.2527, -0.4154, -0.2352,\n",
       "          -0.2088, -0.2396, -0.0637, -0.0813]),\n",
       "  tensor([-0.0593])),\n",
       " (tensor([-0.0725,  0.1429,  0.0681, -0.0857, -0.2527, -0.4154, -0.2352, -0.2088,\n",
       "          -0.2396, -0.0637, -0.0813, -0.0593]),\n",
       "  tensor([0.1868])),\n",
       " (tensor([ 0.1429,  0.0681, -0.0857, -0.2527, -0.4154, -0.2352, -0.2088, -0.2396,\n",
       "          -0.0637, -0.0813, -0.0593,  0.1868]),\n",
       "  tensor([0.3582])),\n",
       " (tensor([ 0.0681, -0.0857, -0.2527, -0.4154, -0.2352, -0.2088, -0.2396, -0.0637,\n",
       "          -0.0813, -0.0593,  0.1868,  0.3582]),\n",
       "  tensor([0.3231])),\n",
       " (tensor([-0.0857, -0.2527, -0.4154, -0.2352, -0.2088, -0.2396, -0.0637, -0.0813,\n",
       "          -0.0593,  0.1868,  0.3582,  0.3231]),\n",
       "  tensor([0.1033])),\n",
       " (tensor([-0.2527, -0.4154, -0.2352, -0.2088, -0.2396, -0.0637, -0.0813, -0.0593,\n",
       "           0.1868,  0.3582,  0.3231,  0.1033]),\n",
       "  tensor([-0.1121])),\n",
       " (tensor([-0.4154, -0.2352, -0.2088, -0.2396, -0.0637, -0.0813, -0.0593,  0.1868,\n",
       "           0.3582,  0.3231,  0.1033, -0.1121]),\n",
       "  tensor([-0.2659])),\n",
       " (tensor([-0.2352, -0.2088, -0.2396, -0.0637, -0.0813, -0.0593,  0.1868,  0.3582,\n",
       "           0.3231,  0.1033, -0.1121, -0.2659]),\n",
       "  tensor([-0.1121])),\n",
       " (tensor([-0.2088, -0.2396, -0.0637, -0.0813, -0.0593,  0.1868,  0.3582,  0.3231,\n",
       "           0.1033, -0.1121, -0.2659, -0.1121]),\n",
       "  tensor([-0.0725])),\n",
       " (tensor([-0.2396, -0.0637, -0.0813, -0.0593,  0.1868,  0.3582,  0.3231,  0.1033,\n",
       "          -0.1121, -0.2659, -0.1121, -0.0725]),\n",
       "  tensor([-0.1341])),\n",
       " (tensor([-0.0637, -0.0813, -0.0593,  0.1868,  0.3582,  0.3231,  0.1033, -0.1121,\n",
       "          -0.2659, -0.1121, -0.0725, -0.1341]),\n",
       "  tensor([0.1077])),\n",
       " (tensor([-0.0813, -0.0593,  0.1868,  0.3582,  0.3231,  0.1033, -0.1121, -0.2659,\n",
       "          -0.1121, -0.0725, -0.1341,  0.1077]),\n",
       "  tensor([0.0725])),\n",
       " (tensor([-0.0593,  0.1868,  0.3582,  0.3231,  0.1033, -0.1121, -0.2659, -0.1121,\n",
       "          -0.0725, -0.1341,  0.1077,  0.0725]),\n",
       "  tensor([0.1033])),\n",
       " (tensor([ 0.1868,  0.3582,  0.3231,  0.1033, -0.1121, -0.2659, -0.1121, -0.0725,\n",
       "          -0.1341,  0.1077,  0.0725,  0.1033]),\n",
       "  tensor([0.3978])),\n",
       " (tensor([ 0.3582,  0.3231,  0.1033, -0.1121, -0.2659, -0.1121, -0.0725, -0.1341,\n",
       "           0.1077,  0.0725,  0.1033,  0.3978]),\n",
       "  tensor([0.5868])),\n",
       " (tensor([ 0.3231,  0.1033, -0.1121, -0.2659, -0.1121, -0.0725, -0.1341,  0.1077,\n",
       "           0.0725,  0.1033,  0.3978,  0.5868]),\n",
       "  tensor([0.5956])),\n",
       " (tensor([ 0.1033, -0.1121, -0.2659, -0.1121, -0.0725, -0.1341,  0.1077,  0.0725,\n",
       "           0.1033,  0.3978,  0.5868,  0.5956]),\n",
       "  tensor([0.3187])),\n",
       " (tensor([-0.1121, -0.2659, -0.1121, -0.0725, -0.1341,  0.1077,  0.0725,  0.1033,\n",
       "           0.3978,  0.5868,  0.5956,  0.3187]),\n",
       "  tensor([0.0681])),\n",
       " (tensor([-0.2659, -0.1121, -0.0725, -0.1341,  0.1077,  0.0725,  0.1033,  0.3978,\n",
       "           0.5868,  0.5956,  0.3187,  0.0681]),\n",
       "  tensor([-0.1165])),\n",
       " (tensor([-0.1121, -0.0725, -0.1341,  0.1077,  0.0725,  0.1033,  0.3978,  0.5868,\n",
       "           0.5956,  0.3187,  0.0681, -0.1165]),\n",
       "  tensor([0.0198])),\n",
       " (tensor([-0.0725, -0.1341,  0.1077,  0.0725,  0.1033,  0.3978,  0.5868,  0.5956,\n",
       "           0.3187,  0.0681, -0.1165,  0.0198]),\n",
       "  tensor([0.0374])),\n",
       " (tensor([-0.1341,  0.1077,  0.0725,  0.1033,  0.3978,  0.5868,  0.5956,  0.3187,\n",
       "           0.0681, -0.1165,  0.0198,  0.0374]),\n",
       "  tensor([-0.0593])),\n",
       " (tensor([ 0.1077,  0.0725,  0.1033,  0.3978,  0.5868,  0.5956,  0.3187,  0.0681,\n",
       "          -0.1165,  0.0198,  0.0374, -0.0593]),\n",
       "  tensor([0.1341])),\n",
       " (tensor([ 0.0725,  0.1033,  0.3978,  0.5868,  0.5956,  0.3187,  0.0681, -0.1165,\n",
       "           0.0198,  0.0374, -0.0593,  0.1341]),\n",
       "  tensor([0.0725])),\n",
       " (tensor([ 0.1033,  0.3978,  0.5868,  0.5956,  0.3187,  0.0681, -0.1165,  0.0198,\n",
       "           0.0374, -0.0593,  0.1341,  0.0725]),\n",
       "  tensor([0.1385])),\n",
       " (tensor([ 0.3978,  0.5868,  0.5956,  0.3187,  0.0681, -0.1165,  0.0198,  0.0374,\n",
       "          -0.0593,  0.1341,  0.0725,  0.1385]),\n",
       "  tensor([0.4549])),\n",
       " (tensor([ 0.5868,  0.5956,  0.3187,  0.0681, -0.1165,  0.0198,  0.0374, -0.0593,\n",
       "           0.1341,  0.0725,  0.1385,  0.4549]),\n",
       "  tensor([0.7011])),\n",
       " (tensor([ 0.5956,  0.3187,  0.0681, -0.1165,  0.0198,  0.0374, -0.0593,  0.1341,\n",
       "           0.0725,  0.1385,  0.4549,  0.7011]),\n",
       "  tensor([0.7626])),\n",
       " (tensor([ 0.3187,  0.0681, -0.1165,  0.0198,  0.0374, -0.0593,  0.1341,  0.0725,\n",
       "           0.1385,  0.4549,  0.7011,  0.7626]),\n",
       "  tensor([0.3187])),\n",
       " (tensor([ 0.0681, -0.1165,  0.0198,  0.0374, -0.0593,  0.1341,  0.0725,  0.1385,\n",
       "           0.4549,  0.7011,  0.7626,  0.3187]),\n",
       "  tensor([0.1209])),\n",
       " (tensor([-0.1165,  0.0198,  0.0374, -0.0593,  0.1341,  0.0725,  0.1385,  0.4549,\n",
       "           0.7011,  0.7626,  0.3187,  0.1209]),\n",
       "  tensor([-0.0945])),\n",
       " (tensor([ 0.0198,  0.0374, -0.0593,  0.1341,  0.0725,  0.1385,  0.4549,  0.7011,\n",
       "           0.7626,  0.3187,  0.1209, -0.0945]),\n",
       "  tensor([0.0242])),\n",
       " (tensor([ 0.0374, -0.0593,  0.1341,  0.0725,  0.1385,  0.4549,  0.7011,  0.7626,\n",
       "           0.3187,  0.1209, -0.0945,  0.0242]),\n",
       "  tensor([0.1253])),\n",
       " (tensor([-0.0593,  0.1341,  0.0725,  0.1385,  0.4549,  0.7011,  0.7626,  0.3187,\n",
       "           0.1209, -0.0945,  0.0242,  0.1253]),\n",
       "  tensor([0.0462])),\n",
       " (tensor([ 0.1341,  0.0725,  0.1385,  0.4549,  0.7011,  0.7626,  0.3187,  0.1209,\n",
       "          -0.0945,  0.0242,  0.1253,  0.0462]),\n",
       "  tensor([0.3275])),\n",
       " (tensor([ 0.0725,  0.1385,  0.4549,  0.7011,  0.7626,  0.3187,  0.1209, -0.0945,\n",
       "           0.0242,  0.1253,  0.0462,  0.3275]),\n",
       "  tensor([0.2835])),\n",
       " (tensor([ 0.1385,  0.4549,  0.7011,  0.7626,  0.3187,  0.1209, -0.0945,  0.0242,\n",
       "           0.1253,  0.0462,  0.3275,  0.2835]),\n",
       "  tensor([0.3890])),\n",
       " (tensor([ 0.4549,  0.7011,  0.7626,  0.3187,  0.1209, -0.0945,  0.0242,  0.1253,\n",
       "           0.0462,  0.3275,  0.2835,  0.3890]),\n",
       "  tensor([0.6176])),\n",
       " (tensor([ 0.7011,  0.7626,  0.3187,  0.1209, -0.0945,  0.0242,  0.1253,  0.0462,\n",
       "           0.3275,  0.2835,  0.3890,  0.6176]),\n",
       "  tensor([0.9516])),\n",
       " (tensor([ 0.7626,  0.3187,  0.1209, -0.0945,  0.0242,  0.1253,  0.0462,  0.3275,\n",
       "           0.2835,  0.3890,  0.6176,  0.9516]),\n",
       "  tensor([1.])),\n",
       " (tensor([ 0.3187,  0.1209, -0.0945,  0.0242,  0.1253,  0.0462,  0.3275,  0.2835,\n",
       "           0.3890,  0.6176,  0.9516,  1.0000]),\n",
       "  tensor([0.5780])),\n",
       " (tensor([ 0.1209, -0.0945,  0.0242,  0.1253,  0.0462,  0.3275,  0.2835,  0.3890,\n",
       "           0.6176,  0.9516,  1.0000,  0.5780]),\n",
       "  tensor([0.3319])),\n",
       " (tensor([-0.0945,  0.0242,  0.1253,  0.0462,  0.3275,  0.2835,  0.3890,  0.6176,\n",
       "           0.9516,  1.0000,  0.5780,  0.3319]),\n",
       "  tensor([0.1341])),\n",
       " (tensor([0.0242, 0.1253, 0.0462, 0.3275, 0.2835, 0.3890, 0.6176, 0.9516, 1.0000,\n",
       "          0.5780, 0.3319, 0.1341]),\n",
       "  tensor([0.3231]))]"
      ]
     },
     "execution_count": 44,
     "metadata": {},
     "output_type": "execute_result"
    }
   ],
   "source": [
    "train_inout_seq"
   ]
  },
  {
   "cell_type": "code",
   "execution_count": 48,
   "metadata": {},
   "outputs": [],
   "source": [
    "class LSTM(nn.Module):\n",
    "    def __init__(self, input_size=1, hidden_layer_size=100, output_size=1):\n",
    "        super().__init__()\n",
    "        self.hidden_layer_size = hidden_layer_size\n",
    "\n",
    "        self.lstm = nn.LSTM(input_size, hidden_layer_size)\n",
    "\n",
    "        self.linear = nn.Linear(hidden_layer_size, output_size)\n",
    "\n",
    "        self.hidden_cell = (torch.zeros(1,1,self.hidden_layer_size),\n",
    "                            torch.zeros(1,1,self.hidden_layer_size))\n",
    "\n",
    "    def forward(self, input_seq):\n",
    "        lstm_out, self.hidden_cell = self.lstm(input_seq.view(len(input_seq) ,1, -1), self.hidden_cell)\n",
    "        predictions = self.linear(lstm_out.view(len(input_seq), -1))\n",
    "        return predictions[-1]"
   ]
  },
  {
   "cell_type": "code",
   "execution_count": 49,
   "metadata": {},
   "outputs": [],
   "source": [
    "model = LSTM()\n",
    "loss_function = nn.MSELoss()\n",
    "optimizer = torch.optim.Adam(model.parameters(), lr=0.001)"
   ]
  },
  {
   "cell_type": "code",
   "execution_count": 50,
   "metadata": {},
   "outputs": [
    {
     "name": "stdout",
     "output_type": "stream",
     "text": [
      "LSTM(\n",
      "  (lstm): LSTM(1, 100)\n",
      "  (linear): Linear(in_features=100, out_features=1, bias=True)\n",
      ")\n"
     ]
    }
   ],
   "source": [
    "print(model)"
   ]
  },
  {
   "cell_type": "code",
   "execution_count": 51,
   "metadata": {},
   "outputs": [],
   "source": [
    "epochs = 150"
   ]
  },
  {
   "cell_type": "code",
   "execution_count": 54,
   "metadata": {
    "scrolled": true
   },
   "outputs": [
    {
     "name": "stdout",
     "output_type": "stream",
     "text": [
      "epoch:   0 loss: 0.00050958\n",
      "epoch:   1 loss: 0.00925409\n",
      "epoch:   2 loss: 0.00054338\n",
      "epoch:   3 loss: 0.00914609\n",
      "epoch:   4 loss: 0.00074453\n",
      "epoch:   5 loss: 0.01000720\n",
      "epoch:   6 loss: 0.00062603\n",
      "epoch:   7 loss: 0.00832330\n",
      "epoch:   8 loss: 0.00093223\n",
      "epoch:   9 loss: 0.00979979\n",
      "epoch:  10 loss: 0.00056852\n",
      "epoch:  11 loss: 0.00739512\n",
      "epoch:  12 loss: 0.00095181\n",
      "epoch:  13 loss: 0.00884468\n",
      "epoch:  14 loss: 0.00037220\n",
      "epoch:  15 loss: 0.00705225\n",
      "epoch:  16 loss: 0.00069625\n",
      "epoch:  17 loss: 0.00670571\n",
      "epoch:  18 loss: 0.00044793\n",
      "epoch:  19 loss: 0.00978282\n",
      "epoch:  20 loss: 0.00001107\n",
      "epoch:  21 loss: 0.00813798\n",
      "epoch:  22 loss: 0.00047501\n",
      "epoch:  23 loss: 0.00682213\n",
      "epoch:  24 loss: 0.00000002\n",
      "epoch:  25 loss: 0.00483188\n",
      "epoch:  26 loss: 0.00034339\n",
      "epoch:  27 loss: 0.00537786\n",
      "epoch:  28 loss: 0.00855360\n",
      "epoch:  29 loss: 0.03037792\n",
      "epoch:  30 loss: 0.01021568\n",
      "epoch:  31 loss: 0.01597523\n",
      "epoch:  32 loss: 0.00813056\n",
      "epoch:  33 loss: 0.00535848\n",
      "epoch:  34 loss: 0.00432848\n",
      "epoch:  35 loss: 0.00222650\n",
      "epoch:  36 loss: 0.00239322\n",
      "epoch:  37 loss: 0.00058551\n",
      "epoch:  38 loss: 0.00160209\n",
      "epoch:  39 loss: 0.00002102\n",
      "epoch:  40 loss: 0.00240794\n",
      "epoch:  41 loss: 0.00400621\n",
      "epoch:  42 loss: 0.01266649\n",
      "epoch:  43 loss: 0.00352969\n",
      "epoch:  44 loss: 0.00237113\n",
      "epoch:  45 loss: 0.00066820\n",
      "epoch:  46 loss: 0.00070054\n",
      "epoch:  47 loss: 0.00028988\n",
      "epoch:  48 loss: 0.00067488\n",
      "epoch:  49 loss: 0.00005563\n",
      "epoch:  50 loss: 0.00062423\n",
      "epoch:  51 loss: 0.00004604\n",
      "epoch:  52 loss: 0.00264494\n",
      "epoch:  53 loss: 0.00048085\n",
      "epoch:  54 loss: 0.00546598\n",
      "epoch:  55 loss: 0.00014704\n",
      "epoch:  56 loss: 0.00391482\n",
      "epoch:  57 loss: 0.00113491\n",
      "epoch:  58 loss: 0.01018530\n",
      "epoch:  59 loss: 0.00077309\n",
      "epoch:  60 loss: 0.00561938\n",
      "epoch:  61 loss: 0.00047969\n",
      "epoch:  62 loss: 0.00340541\n",
      "epoch:  63 loss: 0.00005673\n",
      "epoch:  64 loss: 0.00203929\n",
      "epoch:  65 loss: 0.00061516\n",
      "epoch:  66 loss: 0.00476687\n",
      "epoch:  67 loss: 0.00082307\n",
      "epoch:  68 loss: 0.00107161\n",
      "epoch:  69 loss: 0.00018162\n",
      "epoch:  70 loss: 0.00486274\n",
      "epoch:  71 loss: 0.00088840\n",
      "epoch:  72 loss: 0.01125544\n",
      "epoch:  73 loss: 0.00001494\n",
      "epoch:  74 loss: 0.00303222\n",
      "epoch:  75 loss: 0.00012719\n",
      "epoch:  76 loss: 0.00082993\n",
      "epoch:  77 loss: 0.00002754\n",
      "epoch:  78 loss: 0.00180567\n",
      "epoch:  79 loss: 0.00021627\n",
      "epoch:  80 loss: 0.00630421\n",
      "epoch:  81 loss: 0.00058459\n",
      "epoch:  82 loss: 0.00107305\n",
      "epoch:  83 loss: 0.00309586\n",
      "epoch:  84 loss: 0.00094250\n",
      "epoch:  85 loss: 0.00311448\n",
      "epoch:  86 loss: 0.00018325\n",
      "epoch:  87 loss: 0.00303876\n",
      "epoch:  88 loss: 0.00010753\n",
      "epoch:  89 loss: 0.00817839\n",
      "epoch:  90 loss: 0.00537680\n",
      "epoch:  91 loss: 0.03151432\n",
      "epoch:  92 loss: 0.00675801\n",
      "epoch:  93 loss: 0.00937179\n",
      "epoch:  94 loss: 0.00656257\n",
      "epoch:  95 loss: 0.00510530\n",
      "epoch:  96 loss: 0.00465402\n",
      "epoch:  97 loss: 0.00406190\n",
      "epoch:  98 loss: 0.00398128\n",
      "epoch:  99 loss: 0.00383523\n",
      "epoch: 100 loss: 0.00333222\n",
      "epoch: 101 loss: 0.00260847\n",
      "epoch: 102 loss: 0.00175429\n",
      "epoch: 103 loss: 0.00098519\n",
      "epoch: 104 loss: 0.00048471\n",
      "epoch: 105 loss: 0.00026152\n",
      "epoch: 106 loss: 0.00021029\n",
      "epoch: 107 loss: 0.00020665\n",
      "epoch: 108 loss: 0.00013943\n",
      "epoch: 109 loss: 0.00002734\n",
      "epoch: 110 loss: 0.00000637\n",
      "epoch: 111 loss: 0.00001277\n",
      "epoch: 112 loss: 0.00000864\n",
      "epoch: 113 loss: 0.00013913\n",
      "epoch: 114 loss: 0.00014547\n",
      "epoch: 115 loss: 0.00000001\n",
      "epoch: 116 loss: 0.00003150\n",
      "epoch: 117 loss: 0.00000000\n",
      "epoch: 118 loss: 0.00055902\n",
      "epoch: 119 loss: 0.00049878\n",
      "epoch: 120 loss: 0.00026039\n",
      "epoch: 121 loss: 0.00235202\n",
      "epoch: 122 loss: 0.00270683\n",
      "epoch: 123 loss: 0.03527885\n",
      "epoch: 124 loss: 0.00345767\n",
      "epoch: 125 loss: 0.00531880\n",
      "epoch: 126 loss: 0.00273287\n",
      "epoch: 127 loss: 0.00240494\n",
      "epoch: 128 loss: 0.00126125\n",
      "epoch: 129 loss: 0.00115555\n",
      "epoch: 130 loss: 0.00053062\n",
      "epoch: 131 loss: 0.00038769\n",
      "epoch: 132 loss: 0.00007156\n",
      "epoch: 133 loss: 0.00007501\n",
      "epoch: 134 loss: 0.00000081\n",
      "epoch: 135 loss: 0.00010048\n",
      "epoch: 136 loss: 0.00000294\n",
      "epoch: 137 loss: 0.00028069\n",
      "epoch: 138 loss: 0.00019748\n",
      "epoch: 139 loss: 0.00340970\n",
      "epoch: 140 loss: 0.00130943\n",
      "epoch: 141 loss: 0.01566498\n",
      "epoch: 142 loss: 0.00144362\n",
      "epoch: 143 loss: 0.00151953\n",
      "epoch: 144 loss: 0.00001988\n",
      "epoch: 145 loss: 0.00167108\n",
      "epoch: 146 loss: 0.00044861\n",
      "epoch: 147 loss: 0.00082035\n",
      "epoch: 148 loss: 0.00031907\n",
      "epoch: 149 loss: 0.00019724\n",
      "epoch: 149 loss: 0.0001972411\n"
     ]
    }
   ],
   "source": [
    "for i in range(epochs):\n",
    "    for seq, labels in train_inout_seq:\n",
    "        optimizer.zero_grad()\n",
    "        model.hidden_cell = (torch.zeros(1, 1, model.hidden_layer_size),\n",
    "                        torch.zeros(1, 1, model.hidden_layer_size))\n",
    "\n",
    "        y_pred = model(seq)\n",
    "\n",
    "        single_loss = loss_function(y_pred, labels)\n",
    "        single_loss.backward()\n",
    "        optimizer.step()\n",
    "\n",
    "    print(f'epoch: {i:3} loss: {single_loss.item():10.8f}')\n",
    "\n",
    "print(f'epoch: {i:3} loss: {single_loss.item():10.10f}')"
   ]
  },
  {
   "cell_type": "code",
   "execution_count": 55,
   "metadata": {},
   "outputs": [
    {
     "name": "stdout",
     "output_type": "stream",
     "text": [
      "[0.12527473270893097, 0.04615384712815285, 0.3274725377559662, 0.2835164964199066, 0.3890109956264496, 0.6175824403762817, 0.9516483545303345, 1.0, 0.5780220031738281, 0.33186814188957214, 0.13406594097614288, 0.32307693362236023]\n"
     ]
    }
   ],
   "source": [
    "fut_pred = 12\n",
    "\n",
    "test_inputs = train_data_normalized[-train_window:].tolist()\n",
    "print(test_inputs)"
   ]
  },
  {
   "cell_type": "code",
   "execution_count": 56,
   "metadata": {},
   "outputs": [],
   "source": [
    "model.eval()\n",
    "\n",
    "for i in range(fut_pred):\n",
    "    seq = torch.FloatTensor(test_inputs[-train_window:])\n",
    "    with torch.no_grad():\n",
    "        model.hidden = (torch.zeros(1, 1, model.hidden_layer_size),\n",
    "                        torch.zeros(1, 1, model.hidden_layer_size))\n",
    "        test_inputs.append(model(seq).item())"
   ]
  },
  {
   "cell_type": "code",
   "execution_count": 57,
   "metadata": {},
   "outputs": [
    {
     "data": {
      "text/plain": [
       "[0.6457505822181702,\n",
       " 0.8108461499214172,\n",
       " 0.9943875670433044,\n",
       " 1.1216578483581543,\n",
       " 1.1802029609680176,\n",
       " 1.15078604221344,\n",
       " 1.0864977836608887,\n",
       " 1.0253541469573975,\n",
       " 0.988248884677887,\n",
       " 0.981309175491333,\n",
       " 0.9929874539375305,\n",
       " 1.0108329057693481]"
      ]
     },
     "execution_count": 57,
     "metadata": {},
     "output_type": "execute_result"
    }
   ],
   "source": [
    "test_inputs[fut_pred:]"
   ]
  },
  {
   "cell_type": "code",
   "execution_count": 58,
   "metadata": {},
   "outputs": [
    {
     "name": "stdout",
     "output_type": "stream",
     "text": [
      "[[478.40825745]\n",
      " [515.96749911]\n",
      " [557.7231715 ]\n",
      " [586.6771605 ]\n",
      " [599.99617362]\n",
      " [593.3038246 ]\n",
      " [578.67824578]\n",
      " [564.76806843]\n",
      " [556.32662126]\n",
      " [554.74783742]\n",
      " [557.40464577]\n",
      " [561.46448606]]\n"
     ]
    }
   ],
   "source": [
    "actual_predictions = scaler.inverse_transform(np.array(test_inputs[train_window:] ).reshape(-1, 1))\n",
    "print(actual_predictions)"
   ]
  },
  {
   "cell_type": "code",
   "execution_count": 59,
   "metadata": {},
   "outputs": [
    {
     "name": "stdout",
     "output_type": "stream",
     "text": [
      "[132 133 134 135 136 137 138 139 140 141 142 143]\n"
     ]
    }
   ],
   "source": [
    "x = np.arange(132, 144, 1)\n",
    "print(x)"
   ]
  },
  {
   "cell_type": "code",
   "execution_count": 60,
   "metadata": {},
   "outputs": [
    {
     "data": {
      "image/png": "[encoded data removed]",
      "text/plain": [
       "<Figure size 1080x360 with 1 Axes>"
      ]
     },
     "metadata": {},
     "output_type": "display_data"
    }
   ],
   "source": [
    "plt.title('Month vs Passenger')\n",
    "plt.ylabel('Total Passengers')\n",
    "plt.grid(True)\n",
    "plt.autoscale(axis='x', tight=True)\n",
    "plt.plot(flight_data['passengers'])\n",
    "plt.plot(x,actual_predictions)\n",
    "plt.show()"
   ]
  },
  {
   "cell_type": "code",
   "execution_count": 61,
   "metadata": {},
   "outputs": [
    {
     "data": {
      "image/png": "[encoded data removed]",
      "text/plain": [
       "<Figure size 1080x360 with 1 Axes>"
      ]
     },
     "metadata": {},
     "output_type": "display_data"
    }
   ],
   "source": [
    "plt.title('Month vs Passenger')\n",
    "plt.ylabel('Total Passengers')\n",
    "plt.grid(True)\n",
    "plt.autoscale(axis='x', tight=True)\n",
    "\n",
    "plt.plot(flight_data['passengers'][-train_window:])\n",
    "plt.plot(x,actual_predictions)\n",
    "plt.show()"
   ]
  },
  {
   "cell_type": "code",
   "execution_count": null,
   "metadata": {},
   "outputs": [],
   "source": []
  }
 ],
 "metadata": {
  "kernelspec": {
   "display_name": "Python 3",
   "language": "python",
   "name": "python3"
  },
  "language_info": {
   "codemirror_mode": {
    "name": "ipython",
    "version": 3
   },
   "file_extension": ".py",
   "mimetype": "text/x-python",
   "name": "python",
   "nbconvert_exporter": "python",
   "pygments_lexer": "ipython3",
   "version": "3.8.5"
  }
 },
 "nbformat": 4,
 "nbformat_minor": 5
}
