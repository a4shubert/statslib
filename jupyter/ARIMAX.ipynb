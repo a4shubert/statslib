{
 "cells": [
  {
   "cell_type": "markdown",
   "metadata": {},
   "source": [
    "# ARIMAX"
   ]
  },
  {
   "cell_type": "code",
   "execution_count": null,
   "metadata": {},
   "outputs": [],
   "source": [
    "%load_ext autoreload\n",
    "%autoreload 2\n",
    "%matplotlib inline"
   ]
  },
  {
   "cell_type": "code",
   "execution_count": null,
   "metadata": {},
   "outputs": [],
   "source": [
    "import sys\n",
    "sys.path.append('..')"
   ]
  },
  {
   "cell_type": "code",
   "execution_count": null,
   "metadata": {},
   "outputs": [],
   "source": [
    "import statslib as stb\n",
    "\n",
    "import statsmodels.api as sm\n",
    "\n",
    "import pandas as pd\n",
    "from copy import deepcopy\n",
    "import matplotlib as mpl\n",
    "import matplotlib.pyplot as plt\n",
    "\n",
    "figsize = (8*1.6, 8)"
   ]
  },
  {
   "cell_type": "code",
   "execution_count": null,
   "metadata": {},
   "outputs": [],
   "source": [
    "import warnings\n",
    "warnings.filterwarnings(\"ignore\")"
   ]
  },
  {
   "cell_type": "markdown",
   "metadata": {},
   "source": [
    "# Data Set"
   ]
  },
  {
   "cell_type": "code",
   "execution_count": null,
   "metadata": {},
   "outputs": [],
   "source": [
    "stb.datasets.uschange.df.head()"
   ]
  },
  {
   "cell_type": "code",
   "execution_count": null,
   "metadata": {},
   "outputs": [],
   "source": [
    "y = stb.datasets.uschange.df.Consumption"
   ]
  },
  {
   "cell_type": "code",
   "execution_count": null,
   "metadata": {},
   "outputs": [],
   "source": [
    "X = stb.datasets.uschange.df.drop('Consumption', axis=1)"
   ]
  },
  {
   "cell_type": "markdown",
   "metadata": {},
   "source": [
    "# Design Matrix"
   ]
  },
  {
   "cell_type": "code",
   "execution_count": null,
   "metadata": {},
   "outputs": [],
   "source": [
    "DM = stb.DesignMatrix(y, X)"
   ]
  },
  {
   "cell_type": "code",
   "execution_count": null,
   "metadata": {},
   "outputs": [],
   "source": [
    "DM.describe()"
   ]
  },
  {
   "cell_type": "code",
   "execution_count": null,
   "metadata": {},
   "outputs": [],
   "source": [
    "DM.names"
   ]
  },
  {
   "cell_type": "code",
   "execution_count": null,
   "metadata": {},
   "outputs": [],
   "source": [
    "DM.plot()"
   ]
  },
  {
   "cell_type": "code",
   "execution_count": null,
   "metadata": {},
   "outputs": [],
   "source": [
    "DM.plot_scatter_lowess()"
   ]
  },
  {
   "cell_type": "markdown",
   "metadata": {},
   "source": [
    "# Grid Search"
   ]
  },
  {
   "cell_type": "markdown",
   "metadata": {},
   "source": [
    "When fittind models, it is possible to increase the likelihood by adding parameters, but doing so may resut in overfitting. Both AIC, AICc and BIC attempt to resolve this problem by introducing a penalty term for the number of parameters in the model; the penalty term is larger in BIC than in AIC"
   ]
  },
  {
   "cell_type": "markdown",
   "metadata": {},
   "source": [
    "## Information criterions"
   ]
  },
  {
   "cell_type": "markdown",
   "metadata": {},
   "source": [
    "Likelihood function:\n",
    "$$\n",
    "L = p (x | \\hat{\\theta}, Model)\n",
    "$$"
   ]
  },
  {
   "cell_type": "markdown",
   "metadata": {},
   "source": [
    "### Akaike information criterion\n",
    "$$\n",
    "AIC = 2k - 2\\ln(L)\n",
    "$$\n",
    "\n",
    "\n",
    "### Akaike with correction for small sample sizes\n",
    "\n",
    "$$\n",
    "AICc = AIC + \\dfrac{2k^2 + 2k}{n-k-1}\n",
    "$$\n",
    "\n",
    "$ \\\\ $\n",
    "\n",
    "*Hirotugu Akaike 1971*\n",
    "\n",
    "### Bayesian information criterion\n",
    "\n",
    "$$\n",
    "BIC = k \\ln(n) - 2\\ln(L)\n",
    "$$\n",
    "\n",
    "\n",
    "where \n",
    "* $L$ - is maximum of the likelihood function\n",
    "* $k$ - number of parameters estimated\n",
    "* $n$ - number of data points"
   ]
  },
  {
   "cell_type": "code",
   "execution_count": null,
   "metadata": {},
   "outputs": [],
   "source": [
    "from itertools import product\n",
    "\n",
    "grid = product(range(1,3), [0], range(1,3))\n",
    "\n",
    "results = []\n",
    "for elem in grid:\n",
    "    try:\n",
    "        gc = stb.GeneralCalibrator(sm.tsa.arima.ARIMA, \n",
    "                                       dict(order=elem, \n",
    "                                       trend='n', \n",
    "                                       enforce_stationarity=True))\n",
    "        gm = stb.GeneralModel(gc, DM)\n",
    "        gm.fit(range(10))\n",
    "        results.append([elem, gm.fitted.aic])\n",
    "    except:\n",
    "        continue\n",
    "\n",
    "pd.DataFrame(results, columns=['elem', 'metric']).sort_values(by=['metric'], ascending=True)"
   ]
  },
  {
   "cell_type": "code",
   "execution_count": null,
   "metadata": {},
   "outputs": [],
   "source": [
    "from sklearn.model_selection import TimeSeriesSplit\n",
    "tscv = TimeSeriesSplit(n_splits=6)\n",
    "splits = [(train_idx, test_idx) for train_idx, test_idx in tscv.split(DM.dm.index)]"
   ]
  },
  {
   "cell_type": "code",
   "execution_count": null,
   "metadata": {},
   "outputs": [],
   "source": [
    "metric = stb.metrics.mean_absolute_percentage_error"
   ]
  },
  {
   "cell_type": "code",
   "execution_count": null,
   "metadata": {
    "scrolled": false
   },
   "outputs": [],
   "source": [
    "gc = stb.GeneralCalibrator(sm.tsa.arima.ARIMA, \n",
    "                               dict(order=(2,0,1), \n",
    "                               trend='n', \n",
    "                               enforce_stationarity=True))\n",
    "gm = stb.GeneralModel(gc, DM)\n",
    "cv = stb.CrossValidation(gm, splits, metric=metric)\n",
    "cv_m, cv_std = cv.run()"
   ]
  },
  {
   "cell_type": "markdown",
   "metadata": {},
   "source": [
    "# Final Model"
   ]
  },
  {
   "cell_type": "code",
   "execution_count": null,
   "metadata": {},
   "outputs": [],
   "source": [
    "gc = stb.GeneralCalibrator(sm.tsa.arima.ARIMA, \n",
    "                               dict(order=(2,0,1), \n",
    "                               trend='n', \n",
    "                               enforce_stationarity=True))\n",
    "gm = stb.GeneralModel(gc, DM)\n",
    "\n",
    "gm.fit(range(DM.n))\n",
    "\n",
    "gm.forecast(range(DM.n))\n",
    "\n",
    "print(gm.fitted.summary())"
   ]
  },
  {
   "cell_type": "code",
   "execution_count": null,
   "metadata": {
    "scrolled": false
   },
   "outputs": [],
   "source": [
    "gm.plot_diagnostics()"
   ]
  },
  {
   "cell_type": "markdown",
   "metadata": {},
   "source": [
    "**Jarque Bera test for 3d and 4th moment matching to the Normal one:**"
   ]
  },
  {
   "cell_type": "code",
   "execution_count": null,
   "metadata": {},
   "outputs": [],
   "source": [
    "stb.stat_tests.test_jarque_bera(gm.std_residuals)"
   ]
  },
  {
   "cell_type": "markdown",
   "metadata": {},
   "source": [
    "**Breusch Pagan Test for homoscedasticity**"
   ]
  },
  {
   "cell_type": "code",
   "execution_count": null,
   "metadata": {},
   "outputs": [],
   "source": [
    "stb.stat_tests.test_breusch_pagan(gm.residuals, gm.fitted.model.exog)"
   ]
  },
  {
   "cell_type": "markdown",
   "metadata": {},
   "source": [
    "# Diagnostics"
   ]
  },
  {
   "cell_type": "code",
   "execution_count": null,
   "metadata": {
    "scrolled": false
   },
   "outputs": [],
   "source": [
    "gm.plot_diagnostics()"
   ]
  },
  {
   "cell_type": "markdown",
   "metadata": {},
   "source": [
    "**Jarque Bera test for 3d and 4th moment matching to the Normal one:**"
   ]
  },
  {
   "cell_type": "code",
   "execution_count": null,
   "metadata": {},
   "outputs": [],
   "source": [
    "stb.stat_tests.test_jarque_bera(gm.std_residuals)"
   ]
  },
  {
   "cell_type": "markdown",
   "metadata": {},
   "source": [
    "**Breusch Pagan Test for homoscedasticity**"
   ]
  },
  {
   "cell_type": "code",
   "execution_count": null,
   "metadata": {},
   "outputs": [],
   "source": [
    "stb.stat_tests.test_breusch_pagan(gm.residuals, gm.fitted.model.exog)"
   ]
  }
 ],
 "metadata": {
  "kernelspec": {
   "display_name": "Python 3",
   "language": "python",
   "name": "python3"
  },
  "language_info": {
   "codemirror_mode": {
    "name": "ipython",
    "version": 3
   },
   "file_extension": ".py",
   "mimetype": "text/x-python",
   "name": "python",
   "nbconvert_exporter": "python",
   "pygments_lexer": "ipython3",
   "version": "3.7.9"
  }
 },
 "nbformat": 4,
 "nbformat_minor": 4
}
